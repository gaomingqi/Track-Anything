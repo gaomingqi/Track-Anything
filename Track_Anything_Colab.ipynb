{
  "cells": [
    {
      "cell_type": "markdown",
      "source": [
        "\n",
        "![](https://github.com/gaomingqi/Track-Anything/raw/master/assets/track-anything-logo.jpg)\n",
        "Track-Anything is a flexible and interactive tool for video object tracking and segmentation. It is developed upon Segment Anything, can specify anything to track and segment via user clicks only. During tracking, users can flexibly change the objects they wanna track or correct the region of interest if there are any ambiguities. These characteristics enable Track-Anything to be suitable for:\n",
        "\n",
        "Video object tracking and segmentation with shot changes.\n",
        "Visualized development and data annnotation for video object tracking and segmentation.\n",
        "Object-centric downstream video tasks, such as video inpainting and editing.\n",
        "\n",
        "Gradio demo for Track Anything, a flexible and interactive tool for video object tracking, segmentation, and inpainting. I To use it, simply upload your video, or click one of the examples to load them. Code: https://github.com/gaomingqi/Track-Anything.\n",
        "\n",
        "![Track-Anything](https://github.com/gaomingqi/Track-Anything/raw/master/assets/avengers.gif)"
      ],
      "metadata": {
        "id": "9OQc9BRbhVHI"
      }
    },
    {
      "cell_type": "markdown",
      "source": [
        "# Install Track Anything"
      ],
      "metadata": {
        "id": "WVllODe7irKM"
      }
    },
    {
      "cell_type": "code",
      "source": [
        "!git clone https://github.com/healthonrails/Track-Anything.git"
      ],
      "metadata": {
        "id": "zsXKJlem1hfC"
      },
      "execution_count": null,
      "outputs": []
    },
    {
      "cell_type": "code",
      "source": [
        "%cd Track-Anything/"
      ],
      "metadata": {
        "id": "AZJloa631pNe",
        "outputId": "d1290ecb-cbbc-4b78-c977-4bd8a3c17d43",
        "colab": {
          "base_uri": "https://localhost:8080/"
        }
      },
      "execution_count": 2,
      "outputs": [
        {
          "output_type": "stream",
          "name": "stdout",
          "text": [
            "/content/Track-Anything\n"
          ]
        }
      ]
    },
    {
      "cell_type": "code",
      "source": [
        "!pip install -r requirements.txt"
      ],
      "metadata": {
        "id": "h9yC07-m1t14"
      },
      "execution_count": null,
      "outputs": []
    },
    {
      "cell_type": "markdown",
      "source": [
        "# Run the Gradio demo for Track Anything"
      ],
      "metadata": {
        "id": "O_nxc4jei057"
      }
    },
    {
      "cell_type": "code",
      "source": [
        "!python app.py --device cuda:0"
      ],
      "metadata": {
        "id": "yF4aXRIx12XP"
      },
      "execution_count": null,
      "outputs": []
    }
  ],
  "metadata": {
    "colab": {
      "name": "Welcome To Colaboratory",
      "provenance": []
    },
    "kernelspec": {
      "display_name": "Python 3",
      "name": "python3"
    },
    "accelerator": "GPU",
    "gpuClass": "standard"
  },
  "nbformat": 4,
  "nbformat_minor": 0
}